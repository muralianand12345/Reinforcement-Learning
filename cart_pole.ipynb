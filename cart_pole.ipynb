{
 "cells": [
  {
   "cell_type": "code",
   "execution_count": 25,
   "metadata": {},
   "outputs": [
    {
     "name": "stderr",
     "output_type": "stream",
     "text": [
      "/home/murali/.local/lib/python3.11/site-packages/gym/envs/registration.py:555: UserWarning: \u001b[33mWARN: The environment CartPole-v0 is out of date. You should consider upgrading to version `v1`.\u001b[0m\n",
      "  logger.warn(\n"
     ]
    }
   ],
   "source": [
    "import gym\n",
    "import gym_bandits\n",
    "import numpy as np\n",
    "env = gym.make('CartPole-v0')"
   ]
  },
  {
   "cell_type": "code",
   "execution_count": 26,
   "metadata": {},
   "outputs": [],
   "source": [
    "num_episodes = 100\n",
    "num_timesteps = 50"
   ]
  },
  {
   "cell_type": "code",
   "execution_count": 29,
   "metadata": {},
   "outputs": [
    {
     "name": "stdout",
     "output_type": "stream",
     "text": [
      "Episode: 0, Return: 9.0\n",
      "Episode: 10, Return: 13.0\n",
      "Episode: 20, Return: 18.0\n",
      "Episode: 30, Return: 20.0\n",
      "Episode: 40, Return: 11.0\n",
      "Episode: 50, Return: 13.0\n",
      "Episode: 60, Return: 16.0\n",
      "Episode: 70, Return: 50.0\n",
      "Episode: 80, Return: 28.0\n",
      "Episode: 90, Return: 32.0\n"
     ]
    },
    {
     "name": "stderr",
     "output_type": "stream",
     "text": [
      "/home/murali/.local/lib/python3.11/site-packages/gym/envs/classic_control/cartpole.py:211: UserWarning: \u001b[33mWARN: You are calling render method without specifying any render mode. You can specify the render_mode at initialization, e.g. gym(\"CartPole-v0\", render_mode=\"rgb_array\")\u001b[0m\n",
      "  gym.logger.warn(\n"
     ]
    }
   ],
   "source": [
    "for i in range(num_episodes):\n",
    "    Return = 0\n",
    "    state = env.reset()\n",
    "    \n",
    "    for t in range(num_timesteps):\n",
    "        env.render()\n",
    "\n",
    "        random_action = env.action_space.sample()\n",
    "        next_state, reward, done, infom, a = env.step(random_action)\n",
    "        Return += reward\n",
    "\n",
    "        if done:\n",
    "           break\n",
    "\n",
    "    if i % 10 == 0:\n",
    "        print('Episode: {}, Return: {}'.format(i, Return))"
   ]
  },
  {
   "cell_type": "code",
   "execution_count": null,
   "metadata": {},
   "outputs": [],
   "source": []
  },
  {
   "cell_type": "code",
   "execution_count": null,
   "metadata": {},
   "outputs": [],
   "source": []
  }
 ],
 "metadata": {
  "kernelspec": {
   "display_name": "Python 3",
   "language": "python",
   "name": "python3"
  },
  "language_info": {
   "codemirror_mode": {
    "name": "ipython",
    "version": 3
   },
   "file_extension": ".py",
   "mimetype": "text/x-python",
   "name": "python",
   "nbconvert_exporter": "python",
   "pygments_lexer": "ipython3",
   "version": "3.11.4"
  },
  "orig_nbformat": 4
 },
 "nbformat": 4,
 "nbformat_minor": 2
}
