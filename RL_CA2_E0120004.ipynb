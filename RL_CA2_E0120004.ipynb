{
 "cells": [
  {
   "cell_type": "markdown",
   "metadata": {},
   "source": [
    "1) Implement a reinforcement learning agent in Python and illustrate the steps involved in designing a basic\n",
    "Reinforcement learning (RL) system."
   ]
  },
  {
   "cell_type": "code",
   "execution_count": 8,
   "metadata": {},
   "outputs": [],
   "source": [
    "import random\n",
    "import pandas as pd"
   ]
  },
  {
   "cell_type": "code",
   "execution_count": 13,
   "metadata": {},
   "outputs": [],
   "source": [
    "class Environment:\n",
    "    def __init__(self):\n",
    "        self.steps_left = 100\n",
    "\n",
    "    def get_observation(self):\n",
    "        return [0.0, 0.0, 0.0, 0.0]\n",
    "\n",
    "    def get_actions(self):\n",
    "        return [0, 1]\n",
    "\n",
    "    def is_done(self):\n",
    "        return self.steps_left == 0\n",
    "\n",
    "    def action(self, action):\n",
    "        if self.is_done():\n",
    "            print(\"Game Over\")\n",
    "        self.steps_left -= 1\n",
    "        return random.random()\n",
    "\n",
    "class Agent:\n",
    "    def __init__(self):\n",
    "        self.total_reward = 0.0\n",
    "\n",
    "    def steps(self, env):\n",
    "        current_obs = env.get_observation()\n",
    "        actions = env.get_actions()\n",
    "        reward = env.action(random.choice(actions))\n",
    "        self.total_reward += reward"
   ]
  },
  {
   "cell_type": "code",
   "execution_count": 14,
   "metadata": {},
   "outputs": [
    {
     "name": "stdout",
     "output_type": "stream",
     "text": [
      "Total reward got: 49 \n"
     ]
    }
   ],
   "source": [
    "env = Environment()\n",
    "agent = Agent()\n",
    "\n",
    "while not env.is_done():\n",
    "    agent.steps(env)\n",
    "print(\"Total reward got: %d \" % agent.total_reward)"
   ]
  },
  {
   "cell_type": "markdown",
   "metadata": {},
   "source": [
    "2) Formulate Multi-armed Bandit (MAB) problem for the scenario discussed below. The website\n",
    "www.adwinning.com has five banners for a single advertisement. The task of the advertiser is to find the best\n",
    "advertisement banner that is liked by most of the customers. Hence, devise a solution by implementing a\n",
    "suitable exploration strategy.\n"
   ]
  },
  {
   "cell_type": "code",
   "execution_count": 15,
   "metadata": {},
   "outputs": [],
   "source": [
    "import numpy as np\n",
    "import pandas as pd"
   ]
  },
  {
   "cell_type": "code",
   "execution_count": 16,
   "metadata": {},
   "outputs": [],
   "source": [
    "df = pd.DataFrame()\n",
    "for i in range(5):\n",
    "    df['Banner: '+str(i)] = np.random.randint(1,5,1000)"
   ]
  },
  {
   "cell_type": "code",
   "execution_count": 17,
   "metadata": {},
   "outputs": [],
   "source": [
    "num_interations=100\n",
    "num_banner=5\n",
    "\n",
    "count=np.zeros(num_banner)\n",
    "sum_rewards=np.zeros(num_banner)\n",
    "Q=np.zeros(num_banner)\n",
    "\n",
    "banner_selected=[]"
   ]
  },
  {
   "cell_type": "code",
   "execution_count": 18,
   "metadata": {},
   "outputs": [],
   "source": [
    "def epsilon_greedy_policy(epsilon): #Agent Policy\n",
    "   if np.random.uniform(0,1) < epsilon: #Explore\n",
    "       return np.random.choice(num_banner)\n",
    "   else:\n",
    "       return np.argmax(Q) #Exploit"
   ]
  },
  {
   "cell_type": "code",
   "execution_count": 19,
   "metadata": {},
   "outputs": [],
   "source": [
    "for i in range(num_interations):\n",
    "   banner=epsilon_greedy_policy(0.5)\n",
    "   reward=df.values[i,banner]\n",
    "   count[banner] +=1\n",
    "   \n",
    "   sum_rewards[banner]+=reward\n",
    "   Q[banner] =sum_rewards[banner]/count[banner]\n",
    "   banner_selected.append(banner)"
   ]
  },
  {
   "cell_type": "code",
   "execution_count": 20,
   "metadata": {},
   "outputs": [
    {
     "name": "stdout",
     "output_type": "stream",
     "text": [
      "The optimal banner is banner 0\n"
     ]
    }
   ],
   "source": [
    "print('The optimal banner is banner {}'.format(np.argmax(Q)))"
   ]
  },
  {
   "cell_type": "markdown",
   "metadata": {},
   "source": [
    "3) In certain situations you have to select one action from a set of 10 possible actions (for that particular state).\n",
    "After each choice you receive a numerical reward chosen from a stationary probability distribution (i.e. the\n",
    "true reward does not change) depending upon the action you selected. Your objective is to maximize the\n",
    "expected total reward over some time period. Formalize the above scenario as k-armed bandit problem and\n",
    "implement in Python to illustrate the exploration and exploitation strategy with epsilon value 0.5."
   ]
  },
  {
   "cell_type": "code",
   "execution_count": 22,
   "metadata": {},
   "outputs": [],
   "source": [
    "import numpy as np\n",
    "import pandas as pd"
   ]
  },
  {
   "cell_type": "code",
   "execution_count": 23,
   "metadata": {},
   "outputs": [],
   "source": [
    "df = pd.DataFrame()\n",
    "for i in range(10):\n",
    "    df['Action:'+str(i)] = np.random.randint(0,2,100)"
   ]
  },
  {
   "cell_type": "code",
   "execution_count": 24,
   "metadata": {},
   "outputs": [],
   "source": [
    "num_interations=10\n",
    "num_banner=10\n",
    "count=np.zeros(num_banner)\n",
    "sum_rewards=np.zeros(num_banner)\n",
    "Q=np.zeros(num_banner)\n",
    "banner_selected=[]"
   ]
  },
  {
   "cell_type": "code",
   "execution_count": 25,
   "metadata": {},
   "outputs": [],
   "source": [
    "def epsilon_greedy_policy(epsilon): #Agent Policy\n",
    "    if np.random.uniform(0,1) < epsilon: #Explore\n",
    "       np.random.seed(1)\n",
    "       return np.random.choice(num_banner)\n",
    "    else:\n",
    "       return np.argmax(Q) #Exploit"
   ]
  },
  {
   "cell_type": "code",
   "execution_count": 26,
   "metadata": {},
   "outputs": [],
   "source": [
    "for i in range(num_interations):\n",
    "   banner=epsilon_greedy_policy(0.5)\n",
    "   reward=df.values[i,banner] \n",
    "   count[banner] +=1\n",
    "   sum_rewards[banner]+=reward\n",
    "   Q[banner] =sum_rewards[banner]/count[banner]\n",
    "   banner_selected.append(banner)"
   ]
  },
  {
   "cell_type": "code",
   "execution_count": 27,
   "metadata": {},
   "outputs": [
    {
     "name": "stdout",
     "output_type": "stream",
     "text": [
      "The optimal ARM:0\n"
     ]
    }
   ],
   "source": [
    "print('The optimal ARM:{}'.format(np.argmax(Q)))"
   ]
  },
  {
   "cell_type": "markdown",
   "metadata": {},
   "source": [
    "4) A doctor aims at evaluating ‘k’ possible treatments for an epidemic disease in which incoming patients are\n",
    "partitioned into k groups. The actions are treatment, reward is survival or death of the patient and it is set to 1,\n",
    "if treatment is successful, otherwise 0. After a while the majority of patients can be put to the best found\n",
    "treatment. Formalize the above scenario as k-armed bandit problem and implement in Python to illustrate the\n",
    "exploration and exploitation strategy with epsilon value 0.5.\n"
   ]
  },
  {
   "cell_type": "code",
   "execution_count": 28,
   "metadata": {},
   "outputs": [],
   "source": [
    "import numpy as np"
   ]
  },
  {
   "cell_type": "code",
   "execution_count": 31,
   "metadata": {},
   "outputs": [],
   "source": [
    "def k_armed_bandit(k, epsilon, num_episodes):\n",
    "    true_rewards = np.random.random(k)\n",
    "    estimated_rewards = np.zeros(k)\n",
    "    arm_counts = np.zeros(k)\n",
    "\n",
    "    for episode in range(num_episodes):\n",
    "        if np.random.random() < epsilon:\n",
    "            chosen_arm = np.random.choice(k)\n",
    "        else:\n",
    "            chosen_arm = np.argmax(estimated_rewards)\n",
    "\n",
    "        reward = np.random.binomial(1, true_rewards[chosen_arm])\n",
    "        arm_counts[chosen_arm] += 1\n",
    "        estimated_rewards[chosen_arm] += (reward - estimated_rewards[chosen_arm])\n",
    "    return estimated_rewards"
   ]
  },
  {
   "cell_type": "code",
   "execution_count": 32,
   "metadata": {},
   "outputs": [
    {
     "name": "stdout",
     "output_type": "stream",
     "text": [
      "Estimated rewards for each arm: [0. 1. 1. 1. 1.]\n"
     ]
    }
   ],
   "source": [
    "k = 5\n",
    "epsilon = 0.5\n",
    "num_episodes = 1000 \n",
    "estimated_rewards = k_armed_bandit(k, epsilon, num_episodes)\n",
    "print(\"Estimated rewards for each arm:\", estimated_rewards)"
   ]
  },
  {
   "cell_type": "markdown",
   "metadata": {},
   "source": [
    "5) Define methods for various types of exploration strategies with illustrative comparison of results for the\n",
    "scenario in Q.4.\n"
   ]
  },
  {
   "cell_type": "code",
   "execution_count": 33,
   "metadata": {},
   "outputs": [],
   "source": [
    "df=pd.DataFrame()\n",
    "\n",
    "num_iter=100\n",
    "k_treatment=7\n",
    "\n",
    "for i in range(k_treatment):\n",
    "    df['Treatment_type_'+str(i)]=np.random.randint(0,2,100000)\n",
    "\n",
    "count= np.zeros(k_treatment)\n",
    "sum_rewards=np.zeros(k_treatment)\n",
    "Q=np.zeros(k_treatment)\n",
    "selected_treatment=[]\n",
    "Q_results=[]\n",
    "Best_treatment_all=[]\n"
   ]
  },
  {
   "cell_type": "code",
   "execution_count": 34,
   "metadata": {},
   "outputs": [],
   "source": [
    "def softmax(T):\n",
    "    denom=sum([np.exp(i/T) for i in Q])\n",
    "    probs=[np.exp(i/T)/denom for i in Q]\n",
    "    arm=np.random.choice(k_treatment,p=probs)\n",
    "    return arm\n",
    "\n",
    "def thompson_sampling(alpha,beta):\n",
    "    samples=[np.random.beta(alpha[i]+1,beta[i]+1) for i in range(k_treatment)]\n",
    "    return np.argmax(samples)\n",
    "\n",
    "def UCB(i):\n",
    "    ucb=np.zeros(k_treatment)\n",
    "    if i< 2:\n",
    "        return i\n",
    "    else:\n",
    "        for arm in range(k_treatment):\n",
    "            ucb[arm]=Q[arm]+np.sqrt((2*np.log(sum(count)))/count[arm])\n",
    "        return np.argmax(ucb)\n",
    "    \n",
    "def epsilon_greedy(epsilon):\n",
    "    if 1/k_treatment<epsilon: \n",
    "        return np.random.choice(k_treatment)\n",
    "    else:\n",
    "        return np.argmax(Q)"
   ]
  },
  {
   "cell_type": "code",
   "execution_count": 35,
   "metadata": {},
   "outputs": [],
   "source": [
    "count= np.zeros(k_treatment)\n",
    "sum_rewards=np.zeros(k_treatment)\n",
    "Q=np.zeros(k_treatment)\n",
    "selected_treatment=[]"
   ]
  },
  {
   "cell_type": "code",
   "execution_count": 36,
   "metadata": {},
   "outputs": [],
   "source": [
    "for i in range(num_iter):\n",
    "    treatment = epsilon_greedy(0.5)\n",
    "    reward=df.values[i,treatment]\n",
    "    count[treatment] += 1\n",
    "    sum_rewards[treatment] += reward\n",
    "    Q[treatment] = sum_rewards[treatment] / count[treatment]\n",
    "    selected_treatment.append(treatment)\n"
   ]
  },
  {
   "cell_type": "code",
   "execution_count": 37,
   "metadata": {},
   "outputs": [],
   "source": [
    "Q_results.append(Q)\n",
    "Best_treatment_all.append(np.argmax(Q)+1)"
   ]
  },
  {
   "cell_type": "code",
   "execution_count": 38,
   "metadata": {},
   "outputs": [],
   "source": [
    "count= np.zeros(k_treatment)\n",
    "sum_rewards=np.zeros(k_treatment)\n",
    "Q=np.zeros(k_treatment)\n",
    "selected_treatment=[]"
   ]
  },
  {
   "cell_type": "code",
   "execution_count": 39,
   "metadata": {},
   "outputs": [],
   "source": [
    "T=50"
   ]
  },
  {
   "cell_type": "code",
   "execution_count": 40,
   "metadata": {},
   "outputs": [],
   "source": [
    "for i in range(num_iter):\n",
    "    treatment = softmax(0.5)\n",
    "    reward=df.values[i,treatment]\n",
    "    count[treatment] += 1\n",
    "    sum_rewards[treatment] += reward\n",
    "    Q[treatment] = sum_rewards[treatment] / count[treatment]\n",
    "    selected_treatment.append(treatment)\n",
    "    T=T*0.99\n",
    "\n",
    "Q_results.append(Q) \n",
    "Best_treatment_all.append(np.argmax(Q)+1)\n"
   ]
  },
  {
   "cell_type": "code",
   "execution_count": 42,
   "metadata": {},
   "outputs": [],
   "source": [
    "alpha=np.zeros(k_treatment)\n",
    "beta=np.zeros(k_treatment)\n",
    "\n",
    "count= np.zeros(k_treatment)\n",
    "sum_rewards=np.zeros(k_treatment)\n",
    "Q=np.zeros(k_treatment)\n",
    "selected_treatment=[]"
   ]
  },
  {
   "cell_type": "code",
   "execution_count": 48,
   "metadata": {},
   "outputs": [],
   "source": [
    "for i in range(num_iter):\n",
    "    treatment = UCB(i)\n",
    "    reward=df.values[i,treatment]\n",
    "    count[treatment] += 1\n",
    "    sum_rewards[treatment] += reward\n",
    "    Q[treatment] = sum_rewards[treatment] / count[treatment]\n",
    "    selected_treatment.append(treatment)\n",
    "\n",
    "    if reward==1:\n",
    "        alpha[treatment]=alpha[treatment]+1\n",
    "    else:\n",
    "         beta[treatment]=beta[treatment]+1\n"
   ]
  },
  {
   "cell_type": "code",
   "execution_count": 49,
   "metadata": {},
   "outputs": [],
   "source": [
    "Q_results.append(Q)\n",
    "Best_treatment_all.append(np.argmax(Q)+1)"
   ]
  },
  {
   "cell_type": "code",
   "execution_count": 50,
   "metadata": {},
   "outputs": [
    {
     "name": "stdout",
     "output_type": "stream",
     "text": [
      "\n",
      " Epsilon Greedy \n",
      "Result is  [0.25       0.53846154 0.46666667 0.36363636 0.42857143 0.46153846\n",
      " 0.46666667] \n",
      "Best treatment is  2\n",
      "\n",
      " Softmax Exploration \n",
      "Result is  [0.3        0.57142857 0.30769231 0.41176471 0.58333333 0.61538462\n",
      " 0.35714286] \n",
      "Best treatment is  6\n",
      "\n",
      " Upper Confidence Bound \n",
      "Result is  [0.48484848 0.44827586 0.46875    0.3        0.4        0.55813953\n",
      " 0.27777778] \n",
      "Best treatment is  1\n",
      "\n",
      " Thompson Sampling \n",
      "Result is  [0.48484848 0.44827586 0.46875    0.3        0.4        0.55813953\n",
      " 0.27777778] \n",
      "Best treatment is  6\n"
     ]
    }
   ],
   "source": [
    "methods={\n",
    "    0:\"Epsilon Greedy\",\n",
    "    1:\"Softmax Exploration\",\n",
    "    2:\"Upper Confidence Bound\",\n",
    "    3:\"Thompson Sampling\"\n",
    "}\n",
    "\n",
    "for i in range(len(methods)):\n",
    "    print(\"\\n\",methods[i], \"\\nResult is \", Q_results[i], \"\\nBest treatment is \", Best_treatment_all[i])"
   ]
  },
  {
   "cell_type": "markdown",
   "metadata": {},
   "source": [
    "6) Formulate k-armed bandit and implement in Python to illustrate the exploration and exploitation strategy\n",
    "with epsilon value 0.5 for the scenario given below. An online entertainment media has posted more than one\n",
    "banner for a single advertisement of a popular TV show. Now you are asked to find out which banner is most\n",
    "liked by the people subscribed to the media. Also, suggest a suitable reinforcement learning based solution\n",
    "for a recommendation system like Netflix to personalize the artwork for TV shows according to user behavior"
   ]
  },
  {
   "cell_type": "code",
   "execution_count": 57,
   "metadata": {},
   "outputs": [],
   "source": [
    "import numpy as np\n",
    "import pandas as pd"
   ]
  },
  {
   "cell_type": "code",
   "execution_count": 58,
   "metadata": {},
   "outputs": [
    {
     "data": {
      "text/html": [
       "<div>\n",
       "<style scoped>\n",
       "    .dataframe tbody tr th:only-of-type {\n",
       "        vertical-align: middle;\n",
       "    }\n",
       "\n",
       "    .dataframe tbody tr th {\n",
       "        vertical-align: top;\n",
       "    }\n",
       "\n",
       "    .dataframe thead th {\n",
       "        text-align: right;\n",
       "    }\n",
       "</style>\n",
       "<table border=\"1\" class=\"dataframe\">\n",
       "  <thead>\n",
       "    <tr style=\"text-align: right;\">\n",
       "      <th></th>\n",
       "      <th>Banner_type_0</th>\n",
       "      <th>Banner_type_1</th>\n",
       "      <th>Banner_type_2</th>\n",
       "      <th>Banner_type_3</th>\n",
       "      <th>Banner_type_4</th>\n",
       "    </tr>\n",
       "  </thead>\n",
       "  <tbody>\n",
       "    <tr>\n",
       "      <th>0</th>\n",
       "      <td>1</td>\n",
       "      <td>1</td>\n",
       "      <td>0</td>\n",
       "      <td>1</td>\n",
       "      <td>0</td>\n",
       "    </tr>\n",
       "    <tr>\n",
       "      <th>1</th>\n",
       "      <td>0</td>\n",
       "      <td>0</td>\n",
       "      <td>1</td>\n",
       "      <td>0</td>\n",
       "      <td>0</td>\n",
       "    </tr>\n",
       "    <tr>\n",
       "      <th>2</th>\n",
       "      <td>0</td>\n",
       "      <td>1</td>\n",
       "      <td>1</td>\n",
       "      <td>1</td>\n",
       "      <td>0</td>\n",
       "    </tr>\n",
       "    <tr>\n",
       "      <th>3</th>\n",
       "      <td>1</td>\n",
       "      <td>1</td>\n",
       "      <td>0</td>\n",
       "      <td>1</td>\n",
       "      <td>0</td>\n",
       "    </tr>\n",
       "    <tr>\n",
       "      <th>4</th>\n",
       "      <td>1</td>\n",
       "      <td>0</td>\n",
       "      <td>0</td>\n",
       "      <td>1</td>\n",
       "      <td>0</td>\n",
       "    </tr>\n",
       "  </tbody>\n",
       "</table>\n",
       "</div>"
      ],
      "text/plain": [
       "   Banner_type_0  Banner_type_1  Banner_type_2  Banner_type_3  Banner_type_4\n",
       "0              1              1              0              1              0\n",
       "1              0              0              1              0              0\n",
       "2              0              1              1              1              0\n",
       "3              1              1              0              1              0\n",
       "4              1              0              0              1              0"
      ]
     },
     "execution_count": 58,
     "metadata": {},
     "output_type": "execute_result"
    }
   ],
   "source": [
    "df=pd.DataFrame()\n",
    "for i in range(5):\n",
    "    df['Banner_type_'+str(i)]=np.random.randint(0,2,100000)\n",
    "df.head()\n"
   ]
  },
  {
   "cell_type": "code",
   "execution_count": 59,
   "metadata": {},
   "outputs": [],
   "source": [
    "num_iter=100000\n",
    "num_banner=5\n",
    "count= np.zeros(num_banner)\n",
    "sum_rewards=np.zeros(num_banner)\n",
    "Q=np.zeros(num_banner)\n",
    "selected_banner=[]"
   ]
  },
  {
   "cell_type": "code",
   "execution_count": 60,
   "metadata": {},
   "outputs": [],
   "source": [
    "def thompson_sampling(alpha,beta):\n",
    "    samples=[np.random.beta(alpha[i]+1,beta[i]+1) for i in range(num_banner)]\n",
    "    return np.argmax(samples)\n"
   ]
  },
  {
   "cell_type": "code",
   "execution_count": 61,
   "metadata": {},
   "outputs": [],
   "source": [
    "alpha=np.zeros(num_banner)\n",
    "beta=np.zeros(num_banner)"
   ]
  },
  {
   "cell_type": "code",
   "execution_count": 62,
   "metadata": {},
   "outputs": [],
   "source": [
    "for i in range(num_iter):\n",
    "    banner =thompson_sampling(alpha,beta)\n",
    "    reward=df.values[i,banner]\n",
    "    count[banner] += 1\n",
    "    sum_rewards[banner] += reward\n",
    "    Q[banner] = sum_rewards[banner] / count[banner]\n",
    "    selected_banner.append(banner)\n",
    "    if reward==1:\n",
    "        alpha[banner]=alpha[banner]+1\n",
    "    else:\n",
    "        beta[banner]=beta[banner]+1\n"
   ]
  },
  {
   "cell_type": "code",
   "execution_count": 63,
   "metadata": {},
   "outputs": [
    {
     "name": "stdout",
     "output_type": "stream",
     "text": [
      "[0.47838313 0.45117845 0.48781439 0.49991077 0.49900026]\n"
     ]
    }
   ],
   "source": [
    "print(Q)"
   ]
  },
  {
   "cell_type": "code",
   "execution_count": 64,
   "metadata": {},
   "outputs": [
    {
     "name": "stdout",
     "output_type": "stream",
     "text": [
      "Optimal banner is  4\n"
     ]
    }
   ],
   "source": [
    "print(\"Optimal banner is \",np.argmax(Q)+1)"
   ]
  },
  {
   "cell_type": "code",
   "execution_count": 66,
   "metadata": {},
   "outputs": [
    {
     "data": {
      "image/png": "[encoded data removed]",
      "text/plain": [
       "<Figure size 640x480 with 1 Axes>"
      ]
     },
     "metadata": {},
     "output_type": "display_data"
    }
   ],
   "source": [
    "import seaborn as sns\n",
    "ax=sns.histplot(np.array(selected_banner))\n",
    "import matplotlib.pyplot as plt\n",
    "plt.show()"
   ]
  },
  {
   "cell_type": "code",
   "execution_count": 67,
   "metadata": {},
   "outputs": [],
   "source": [
    "num_iter=100000\n",
    "num_banner=5\n",
    "Q_results=[]\n",
    "Best_Ad_all=[]"
   ]
  },
  {
   "cell_type": "code",
   "execution_count": 68,
   "metadata": {},
   "outputs": [],
   "source": [
    "def epsilon_greedy(epsilon):\n",
    "    if np.random.uniform(0,1)<epsilon: \n",
    "        return np.random.choice(num_banner) \n",
    "    else:\n",
    "        return np.argmax(Q)\n",
    "    \n",
    "def UCB(i):\n",
    "    ucb=np.zeros(num_banner)\n",
    "    if i< 2:\n",
    "        return i\n",
    "    else:\n",
    "        for arm in range(num_banner):\n",
    "            ucb[arm]=Q[arm]+np.sqrt((2*np.log(sum(count)))/count[arm])\n",
    "        return np.argmax(ucb)\n"
   ]
  },
  {
   "cell_type": "code",
   "execution_count": 69,
   "metadata": {},
   "outputs": [],
   "source": [
    "count= np.zeros(num_banner)\n",
    "sum_rewards=np.zeros(num_banner)\n",
    "Q=np.zeros(num_banner)\n",
    "selected_banner=[]"
   ]
  },
  {
   "cell_type": "code",
   "execution_count": 70,
   "metadata": {},
   "outputs": [],
   "source": [
    "for i in range(num_iter):\n",
    "    banner = epsilon_greedy(0.5)\n",
    "    reward=df.values[i,banner]\n",
    "    count[banner] += 1\n",
    "    sum_rewards[banner] += reward\n",
    "    Q[banner] = sum_rewards[banner] / count[banner]\n",
    "    selected_banner.append(banner)"
   ]
  },
  {
   "cell_type": "code",
   "execution_count": 71,
   "metadata": {},
   "outputs": [
    {
     "data": {
      "image/png": "[encoded data removed]",
      "text/plain": [
       "<Figure size 640x480 with 1 Axes>"
      ]
     },
     "metadata": {},
     "output_type": "display_data"
    }
   ],
   "source": [
    "Q_results.append(Q)\n",
    "Best_Ad_all.append(np.argmax(Q)+1)\n",
    "ax=sns.histplot(np.array(selected_banner))"
   ]
  },
  {
   "cell_type": "code",
   "execution_count": 72,
   "metadata": {},
   "outputs": [],
   "source": [
    "count= np.zeros(num_banner)\n",
    "sum_rewards=np.zeros(num_banner)\n",
    "Q=np.zeros(num_banner)\n",
    "selected_banner=[]"
   ]
  },
  {
   "cell_type": "code",
   "execution_count": 73,
   "metadata": {},
   "outputs": [
    {
     "name": "stderr",
     "output_type": "stream",
     "text": [
      "C:\\Users\\smura\\AppData\\Local\\Temp\\ipykernel_11808\\3877232358.py:13: RuntimeWarning: divide by zero encountered in scalar divide\n",
      "  ucb[arm]=Q[arm]+np.sqrt((2*np.log(sum(count)))/count[arm])\n"
     ]
    },
    {
     "data": {
      "image/png": "[encoded data removed]",
      "text/plain": [
       "<Figure size 640x480 with 1 Axes>"
      ]
     },
     "metadata": {},
     "output_type": "display_data"
    }
   ],
   "source": [
    "for i in range(num_iter):\n",
    "    banner =UCB(i)\n",
    "    reward=df.values[i,banner]\n",
    "    count[banner] += 1\n",
    "    sum_rewards[banner] += reward\n",
    "    Q[banner] = sum_rewards[banner] / count[banner]\n",
    "    selected_banner.append(banner)\n",
    "\n",
    "Q_results.append(Q)\n",
    "Best_Ad_all.append(np.argmax(Q)+1)\n",
    "ax=sns.histplot(np.array(selected_banner))\n",
    "plt.show()\n"
   ]
  },
  {
   "cell_type": "markdown",
   "metadata": {},
   "source": [
    "b) The epsilon value is varied between 0.15 and 0.9 for Question.7 (a) and report y\n",
    "observation."
   ]
  },
  {
   "cell_type": "code",
   "execution_count": 74,
   "metadata": {},
   "outputs": [
    {
     "name": "stdout",
     "output_type": "stream",
     "text": [
      "Epsilon = 0.9\n",
      "Estimated Action Values:\n",
      "[0.50027269 0.50222711 0.50080767 0.50511214 0.49997579]\n",
      "No of times each action was selected:\n",
      "[18336. 18185. 18572. 24256. 20651.]\n",
      "\n",
      "\n",
      "Optimal banner is  4\n"
     ]
    }
   ],
   "source": [
    "for epsilon in np.arange(0.15, 0.91, 0.15):\n",
    "    count = np.zeros(num_banner)\n",
    "    sum_rewards = np.zeros(num_banner)\n",
    "    Q = np.zeros(num_banner)\n",
    "    selected_banner = []\n",
    "\n",
    "for i in range(num_iter):\n",
    "    banner = epsilon_greedy(epsilon)\n",
    "    reward=df.values[i,banner]\n",
    "    count[banner] += 1\n",
    "    sum_rewards[banner] += reward\n",
    "    Q[banner] = sum_rewards[banner] / count[banner]\n",
    "    selected_banner.append(banner)\n",
    "\n",
    "print(f\"Epsilon = {epsilon}\")\n",
    "print(\"Estimated Action Values:\")\n",
    "print(Q)\n",
    "print(\"No of times each action was selected:\")\n",
    "print(count)\n",
    "print(\"\\n\")\n",
    "print(\"Optimal banner is \",np.argmax(Q)+1)"
   ]
  },
  {
   "cell_type": "code",
   "execution_count": null,
   "metadata": {},
   "outputs": [],
   "source": []
  }
 ],
 "metadata": {
  "kernelspec": {
   "display_name": "Python 3",
   "language": "python",
   "name": "python3"
  },
  "language_info": {
   "codemirror_mode": {
    "name": "ipython",
    "version": 3
   },
   "file_extension": ".py",
   "mimetype": "text/x-python",
   "name": "python",
   "nbconvert_exporter": "python",
   "pygments_lexer": "ipython3",
   "version": "3.11.4"
  },
  "orig_nbformat": 4
 },
 "nbformat": 4,
 "nbformat_minor": 2
}
